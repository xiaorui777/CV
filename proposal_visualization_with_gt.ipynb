{
 "cells": [
  {
   "cell_type": "code",
   "execution_count": 59,
   "metadata": {},
   "outputs": [
    {
     "name": "stdout",
     "output_type": "stream",
     "text": [
      "[Errno 2] No such file or directory: './Downloads/mmdetection'\n",
      "/Users/ruixiao/Downloads/mmdetection\n"
     ]
    }
   ],
   "source": [
    "cd './Downloads/mmdetection'"
   ]
  },
  {
   "cell_type": "code",
   "execution_count": 2,
   "metadata": {},
   "outputs": [],
   "source": [
    "import pickle\n",
    "import json\n",
    "import os\n",
    "import numpy as np\n",
    "import mmcv\n",
    "from mmcv.visualization.image import imshow_bboxes, imshow\n",
    "from mmcv.image.io import imwrite"
   ]
  },
  {
   "cell_type": "code",
   "execution_count": 3,
   "metadata": {},
   "outputs": [],
   "source": [
    "file = pickle.load(open('./result_ep1.pkl','rb'))"
   ]
  },
  {
   "cell_type": "code",
   "execution_count": 5,
   "metadata": {},
   "outputs": [],
   "source": [
    "with open('./data/obj365/objects365_Tiny_val.json', encoding='utf-8') as f:\n",
    "    line = f.readline()\n",
    "    d = json.loads(line)\n",
    "    path = d['images']\n",
    "    ann = d['annotations']\n",
    "    data_list = []\n",
    "    data_id = []\n",
    "    gt_bboxes = []\n",
    "    gt_id = []\n",
    "    for i in path:\n",
    "        data_list.append(i.get('file_name'))\n",
    "        data_id.append(i.get('id'))\n",
    "    for j in ann:\n",
    "        gt_bboxes.append(j.get('bbox'))\n",
    "        gt_id.append(j.get('image_id'))\n",
    "    f.close()"
   ]
  },
  {
   "cell_type": "code",
   "execution_count": 10,
   "metadata": {},
   "outputs": [],
   "source": [
    "# 每个图片中gt的个数\n",
    "gt_count = []\n",
    "for c in data_id:\n",
    "    gt_count.append(gt_id.count(c))"
   ]
  },
  {
   "cell_type": "code",
   "execution_count": 12,
   "metadata": {},
   "outputs": [
    {
     "data": {
      "text/plain": [
       "622"
      ]
     },
     "execution_count": 12,
     "metadata": {},
     "output_type": "execute_result"
    }
   ],
   "source": [
    "len(gt_count)"
   ]
  },
  {
   "cell_type": "code",
   "execution_count": 38,
   "metadata": {},
   "outputs": [],
   "source": [
    "# 将gt的个数转化成累加和\n",
    "gt_cumsum = np.cumsum(gt_count)"
   ]
  },
  {
   "cell_type": "code",
   "execution_count": 87,
   "metadata": {},
   "outputs": [],
   "source": [
    "# 将 ann 字典中的 'image_id', 'bbox' 提取出来\n",
    "gt_dir = []\n",
    "for i in ann:\n",
    "    names = {'image_id', 'bbox'}\n",
    "    dir1 = {key: value for key, value in i.items() if key in names}\n",
    "    gt_dir.append(dir1)"
   ]
  },
  {
   "cell_type": "code",
   "execution_count": 96,
   "metadata": {},
   "outputs": [],
   "source": [
    "data_path = []\n",
    "for i in data_list:\n",
    "    list = os.path.join('./data/obj365/val',i) \n",
    "    data_path.append(list)"
   ]
  },
  {
   "cell_type": "code",
   "execution_count": 105,
   "metadata": {},
   "outputs": [],
   "source": [
    "# 选择cls_score>0.7的proposal\n",
    "test = []\n",
    "for i in range(len(file)):\n",
    "    bboxes = file[i]\n",
    "    test1 = []\n",
    "    for h in bboxes:\n",
    "        if h[4]>0.7:\n",
    "            test1.append(h)\n",
    "    test.append(test1)"
   ]
  },
  {
   "cell_type": "code",
   "execution_count": 106,
   "metadata": {},
   "outputs": [],
   "source": [
    "# 绘制proposal\n",
    "for i in range(len(file)):\n",
    "    # bboxes长度为2000\n",
    "    for j in test:\n",
    "        index = len(j)\n",
    "    bboxes = file[i][:index]\n",
    "    imshow_bboxes(data_path[i], bboxes, show=False, out_file='./proposal_0.7/'+str(i)+'.jpg')"
   ]
  },
  {
   "cell_type": "code",
   "execution_count": 104,
   "metadata": {},
   "outputs": [],
   "source": [
    "# ground truth 的文件路径 (使用绘制好proposal的图片路径)\n",
    "gt_path = []\n",
    "for i in range(len(data_list)):\n",
    "    list = './proposal_0.7/'+str(i)+'.jpg'\n",
    "    gt_path.append(list)"
   ]
  },
  {
   "cell_type": "code",
   "execution_count": 107,
   "metadata": {},
   "outputs": [
    {
     "ename": "IndexError",
     "evalue": "index 622 is out of bounds for axis 0 with size 622",
     "output_type": "error",
     "traceback": [
      "\u001b[0;31m---------------------------------------------------------------------------\u001b[0m",
      "\u001b[0;31mIndexError\u001b[0m                                Traceback (most recent call last)",
      "\u001b[0;32m<ipython-input-107-078538d9c8e4>\u001b[0m in \u001b[0;36m<module>\u001b[0;34m\u001b[0m\n\u001b[1;32m      5\u001b[0m         \u001b[0mimshow_bboxes\u001b[0m\u001b[0;34m(\u001b[0m\u001b[0mgt_path\u001b[0m\u001b[0;34m[\u001b[0m\u001b[0mi\u001b[0m\u001b[0;34m]\u001b[0m\u001b[0;34m,\u001b[0m \u001b[0mnp\u001b[0m\u001b[0;34m.\u001b[0m\u001b[0marray\u001b[0m\u001b[0;34m(\u001b[0m\u001b[0mbboxes\u001b[0m\u001b[0;34m)\u001b[0m\u001b[0;34m,\u001b[0m \u001b[0mshow\u001b[0m\u001b[0;34m=\u001b[0m\u001b[0;32mFalse\u001b[0m\u001b[0;34m,\u001b[0m \u001b[0mcolors\u001b[0m\u001b[0;34m=\u001b[0m\u001b[0;34m'red'\u001b[0m\u001b[0;34m,\u001b[0m\u001b[0mout_file\u001b[0m\u001b[0;34m=\u001b[0m\u001b[0;34m'./proposal_0.7_0.8gt/'\u001b[0m\u001b[0;34m+\u001b[0m\u001b[0mstr\u001b[0m\u001b[0;34m(\u001b[0m\u001b[0mi\u001b[0m\u001b[0;34m)\u001b[0m\u001b[0;34m+\u001b[0m\u001b[0;34m'.jpg'\u001b[0m\u001b[0;34m)\u001b[0m\u001b[0;34m\u001b[0m\u001b[0;34m\u001b[0m\u001b[0m\n\u001b[1;32m      6\u001b[0m     \u001b[0;32melse\u001b[0m\u001b[0;34m:\u001b[0m\u001b[0;34m\u001b[0m\u001b[0;34m\u001b[0m\u001b[0m\n\u001b[0;32m----> 7\u001b[0;31m         \u001b[0mbboxes\u001b[0m \u001b[0;34m=\u001b[0m \u001b[0mgt_bboxes\u001b[0m\u001b[0;34m[\u001b[0m\u001b[0mgt_cumsum\u001b[0m\u001b[0;34m[\u001b[0m\u001b[0mi\u001b[0m\u001b[0;34m]\u001b[0m\u001b[0;34m:\u001b[0m\u001b[0mgt_cumsum\u001b[0m\u001b[0;34m[\u001b[0m\u001b[0mi\u001b[0m\u001b[0;34m+\u001b[0m\u001b[0;36m1\u001b[0m\u001b[0;34m]\u001b[0m\u001b[0;34m]\u001b[0m\u001b[0;34m\u001b[0m\u001b[0;34m\u001b[0m\u001b[0m\n\u001b[0m\u001b[1;32m      8\u001b[0m         \u001b[0mimshow_bboxes\u001b[0m\u001b[0;34m(\u001b[0m\u001b[0mgt_path\u001b[0m\u001b[0;34m[\u001b[0m\u001b[0mi\u001b[0m\u001b[0;34m]\u001b[0m\u001b[0;34m,\u001b[0m \u001b[0mnp\u001b[0m\u001b[0;34m.\u001b[0m\u001b[0marray\u001b[0m\u001b[0;34m(\u001b[0m\u001b[0mbboxes\u001b[0m\u001b[0;34m)\u001b[0m\u001b[0;34m,\u001b[0m \u001b[0mshow\u001b[0m\u001b[0;34m=\u001b[0m\u001b[0;32mFalse\u001b[0m\u001b[0;34m,\u001b[0m \u001b[0mcolors\u001b[0m\u001b[0;34m=\u001b[0m\u001b[0;34m'red'\u001b[0m\u001b[0;34m,\u001b[0m\u001b[0mout_file\u001b[0m\u001b[0;34m=\u001b[0m\u001b[0;34m'./proposal_0.7_0.8gt/'\u001b[0m\u001b[0;34m+\u001b[0m\u001b[0mstr\u001b[0m\u001b[0;34m(\u001b[0m\u001b[0mi\u001b[0m\u001b[0;34m)\u001b[0m\u001b[0;34m+\u001b[0m\u001b[0;34m'.jpg'\u001b[0m\u001b[0;34m)\u001b[0m\u001b[0;34m\u001b[0m\u001b[0;34m\u001b[0m\u001b[0m\n",
      "\u001b[0;31mIndexError\u001b[0m: index 622 is out of bounds for axis 0 with size 622"
     ]
    }
   ],
   "source": [
    "# 绘制 ground truth（超出边界了，只能画出前621个 val 图像）\n",
    "for i in range(len(file)):\n",
    "    if i == 0:\n",
    "        bboxes = gt_bboxes[:gt_cumsum[i]]\n",
    "        imshow_bboxes(gt_path[i], np.array(bboxes), show=False, colors='red',out_file='./proposal_0.7gt/'+str(i)+'.jpg')\n",
    "    else:\n",
    "        bboxes = gt_bboxes[gt_cumsum[i]:gt_cumsum[i+1]]\n",
    "        imshow_bboxes(gt_path[i], np.array(bboxes), show=False, colors='red',out_file='./proposal_0.7gt/'+str(i)+'.jpg')"
   ]
  }
 ],
 "metadata": {
  "kernelspec": {
   "display_name": "open-mmlab",
   "language": "python",
   "name": "open-mmlab"
  },
  "language_info": {
   "codemirror_mode": {
    "name": "ipython",
    "version": 3
   },
   "file_extension": ".py",
   "mimetype": "text/x-python",
   "name": "python",
   "nbconvert_exporter": "python",
   "pygments_lexer": "ipython3",
   "version": "3.7.4"
  }
 },
 "nbformat": 4,
 "nbformat_minor": 2
}
