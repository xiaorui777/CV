{
  "nbformat": 4,
  "nbformat_minor": 0,
  "metadata": {
    "colab": {
      "name": "proposal_visualization.ipynb",
      "version": "0.3.2",
      "provenance": [],
      "include_colab_link": true
    },
    "kernelspec": {
      "name": "python3",
      "display_name": "Python 3"
    }
  },
  "cells": [
    {
      "cell_type": "markdown",
      "metadata": {
        "id": "view-in-github",
        "colab_type": "text"
      },
      "source": [
        "<a href=\"https://colab.research.google.com/github/xiaorui777/CV/blob/master/proposal_visualization.ipynb\" target=\"_parent\"><img src=\"https://colab.research.google.com/assets/colab-badge.svg\" alt=\"Open In Colab\"/></a>"
      ]
    },
    {
      "cell_type": "code",
      "metadata": {
        "id": "DPPxNqmOCaN_",
        "colab_type": "code",
        "colab": {}
      },
      "source": [
        "cd './Downloads/mmdetection'"
      ],
      "execution_count": 0,
      "outputs": []
    },
    {
      "cell_type": "code",
      "metadata": {
        "id": "3u8PCp3wCi2C",
        "colab_type": "code",
        "colab": {}
      },
      "source": [
        "import pickle\n",
        "import json\n",
        "import os\n",
        "import numpy as np\n",
        "import mmcv\n",
        "from mmcv.visualization.image import imshow_bboxes, imshow\n",
        "from mmcv.image.io import imwrite"
      ],
      "execution_count": 0,
      "outputs": []
    },
    {
      "cell_type": "code",
      "metadata": {
        "id": "UvqnFCbPCkyQ",
        "colab_type": "code",
        "colab": {}
      },
      "source": [
        "file = pickle.load(open('./result_ep1.pkl','rb'))"
      ],
      "execution_count": 0,
      "outputs": []
    },
    {
      "cell_type": "code",
      "metadata": {
        "id": "LD8s-cf5CmlF",
        "colab_type": "code",
        "colab": {}
      },
      "source": [
        "with open('./data/obj365/objects365_Tiny_val.json', encoding='utf-8') as f:\n",
        "    line = f.readline()\n",
        "    d = json.loads(line)\n",
        "    path = d['images']\n",
        "    data_list = []\n",
        "    for i in path:\n",
        "        data_list.append(i.get('file_name'))\n",
        "    f.close()"
      ],
      "execution_count": 0,
      "outputs": []
    },
    {
      "cell_type": "code",
      "metadata": {
        "id": "5MIFKD__CoZD",
        "colab_type": "code",
        "colab": {}
      },
      "source": [
        "data_path = []\n",
        "for i in data_list:\n",
        "    list = os.path.join('./data/obj365/val',i) \n",
        "    data_path.append(list)"
      ],
      "execution_count": 0,
      "outputs": []
    },
    {
      "cell_type": "code",
      "metadata": {
        "id": "fuoPI5iFCqb8",
        "colab_type": "code",
        "colab": {}
      },
      "source": [
        "test = []\n",
        "for i in range(len(file)):\n",
        "    bboxes = file[i]\n",
        "    test1 = []\n",
        "    for h in bboxes:\n",
        "        if h[4]>0.9:\n",
        "            test1.append(h)\n",
        "    test.append(test1)"
      ],
      "execution_count": 0,
      "outputs": []
    },
    {
      "cell_type": "code",
      "metadata": {
        "id": "MT7-LGuOCsoA",
        "colab_type": "code",
        "colab": {}
      },
      "source": [
        "for i in range(len(file)):\n",
        "    # bboxes长度为2000\n",
        "    for j in test:\n",
        "        index = len(j)\n",
        "    bboxes = file[i][:index]\n",
        "    imshow_bboxes(data_path[i], bboxes, show=False, out_file='./proposal_0.9/'+str(i)+'.jpg')"
      ],
      "execution_count": 0,
      "outputs": []
    }
  ]
}