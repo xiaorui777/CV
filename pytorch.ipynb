{
  "nbformat": 4,
  "nbformat_minor": 0,
  "metadata": {
    "colab": {
      "name": "pytorch.ipynb",
      "version": "0.3.2",
      "provenance": [],
      "include_colab_link": true
    },
    "kernelspec": {
      "name": "python3",
      "display_name": "Python 3"
    }
  },
  "cells": [
    {
      "cell_type": "markdown",
      "metadata": {
        "id": "view-in-github",
        "colab_type": "text"
      },
      "source": [
        "<a href=\"https://colab.research.google.com/github/xiaorui777/CV/blob/master/pytorch.ipynb\" target=\"_parent\"><img src=\"https://colab.research.google.com/assets/colab-badge.svg\" alt=\"Open In Colab\"/></a>"
      ]
    },
    {
      "cell_type": "markdown",
      "metadata": {
        "id": "8k0cNFZedOr-",
        "colab_type": "text"
      },
      "source": [
        "# 关于Pytorch"
      ]
    },
    {
      "cell_type": "markdown",
      "metadata": {
        "id": "Avz6xcKhdUMl",
        "colab_type": "text"
      },
      "source": [
        "## Pytorch 和 Numpy 的对比"
      ]
    },
    {
      "cell_type": "code",
      "metadata": {
        "id": "JV3zjoiaa9td",
        "colab_type": "code",
        "colab": {}
      },
      "source": [
        "import torch\n",
        "import numpy as np"
      ],
      "execution_count": 0,
      "outputs": []
    },
    {
      "cell_type": "code",
      "metadata": {
        "id": "CHdcdg2LbNas",
        "colab_type": "code",
        "colab": {
          "base_uri": "https://localhost:8080/",
          "height": 187
        },
        "outputId": "3a6d5de4-2382-4304-c6d3-cdb20151ad64"
      },
      "source": [
        "np_data = np.arange(6).reshape((2,3))\n",
        "\n",
        "# numpy 转 torch 形式\n",
        "torch_data = torch.from_numpy(np_data)\n",
        "# torch 转 numpy 形式\n",
        "tensor2array = torch_data.numpy()\n",
        "\n",
        "print(\n",
        "    '\\nnumpy：','\\n',np_data,\n",
        "    '\\ntorch：','\\n',torch_data,\n",
        "    '\\n转回numpy：','\\n',tensor2array\n",
        ")"
      ],
      "execution_count": 22,
      "outputs": [
        {
          "output_type": "stream",
          "text": [
            "\n",
            "numpy： \n",
            " [[0 1 2]\n",
            " [3 4 5]] \n",
            "torch： \n",
            " tensor([[0, 1, 2],\n",
            "        [3, 4, 5]]) \n",
            "转回numpy： \n",
            " [[0 1 2]\n",
            " [3 4 5]]\n"
          ],
          "name": "stdout"
        }
      ]
    },
    {
      "cell_type": "markdown",
      "metadata": {
        "id": "heeRjT3OgBRZ",
        "colab_type": "text"
      },
      "source": [
        "## Pytorch 数学运算\n",
        "### 绝对值（abs）"
      ]
    },
    {
      "cell_type": "code",
      "metadata": {
        "id": "eKSwNH_JbS9H",
        "colab_type": "code",
        "colab": {}
      },
      "source": [
        "# abs 绝对值\n",
        "data = [-1,-2,1,2]\n",
        "data_abs = np.abs(data)\n",
        "\n",
        "tensor = torch.FloatTensor(data)  # 32bit\n",
        "tensor_abs = torch.abs(tensor)"
      ],
      "execution_count": 0,
      "outputs": []
    },
    {
      "cell_type": "code",
      "metadata": {
        "id": "WIYjC32gfFgb",
        "colab_type": "code",
        "colab": {
          "base_uri": "https://localhost:8080/",
          "height": 68
        },
        "outputId": "91017fa5-0179-42eb-93a6-6a7c2df55d4b"
      },
      "source": [
        "print(\n",
        "    '\\nnumpy：',data,\n",
        "    '\\ntorch：',tensor\n",
        ")"
      ],
      "execution_count": 21,
      "outputs": [
        {
          "output_type": "stream",
          "text": [
            "\n",
            "numpy： [-1, -2, 1, 2] \n",
            "torch： tensor([-1., -2.,  1.,  2.])\n"
          ],
          "name": "stdout"
        }
      ]
    },
    {
      "cell_type": "code",
      "metadata": {
        "id": "hBEdY5ZkfHOU",
        "colab_type": "code",
        "colab": {
          "base_uri": "https://localhost:8080/",
          "height": 68
        },
        "outputId": "3327cf3d-b904-4a59-8bf4-092da65ebf26"
      },
      "source": [
        "print(\n",
        "    '\\nnumpy的绝对值：',data_abs,\n",
        "    '\\ntorch的绝对值：',tensor_abs\n",
        ")"
      ],
      "execution_count": 23,
      "outputs": [
        {
          "output_type": "stream",
          "text": [
            "\n",
            "numpy的绝对值： [1 2 1 2] \n",
            "torch的绝对值： tensor([1., 2., 1., 2.])\n"
          ],
          "name": "stdout"
        }
      ]
    },
    {
      "cell_type": "markdown",
      "metadata": {
        "id": "w5fU7eUAhRVZ",
        "colab_type": "text"
      },
      "source": [
        "### 矩阵运算"
      ]
    },
    {
      "cell_type": "code",
      "metadata": {
        "id": "7tg_BkRBf9za",
        "colab_type": "code",
        "colab": {}
      },
      "source": [
        "data = [[1,2],[3,4]]\n",
        "tensor = torch.FloatTensor(data)\n",
        "\n",
        "# 矩阵相乘\n",
        "data_matmul = np.matmul(data,data)\n",
        "\n",
        "# torch接受的都是tensor形式，注意定义的时候转换\n",
        "tensor_matmal = torch.mm(tensor,tensor)"
      ],
      "execution_count": 0,
      "outputs": []
    },
    {
      "cell_type": "code",
      "metadata": {
        "id": "m7WtnxsnhjG6",
        "colab_type": "code",
        "colab": {
          "base_uri": "https://localhost:8080/",
          "height": 136
        },
        "outputId": "aeeaf36d-db19-41ac-ade0-2893c6e0c1f4"
      },
      "source": [
        "print(\n",
        "    '\\nnumpy:','\\n',data_matmul,\n",
        "    '\\ntorch:','\\n',tensor_matmal\n",
        ")"
      ],
      "execution_count": 32,
      "outputs": [
        {
          "output_type": "stream",
          "text": [
            "\n",
            "numpy: \n",
            " [[ 7 10]\n",
            " [15 22]] \n",
            "torch: \n",
            " tensor([[ 7., 10.],\n",
            "        [15., 22.]])\n"
          ],
          "name": "stdout"
        }
      ]
    },
    {
      "cell_type": "markdown",
      "metadata": {
        "id": "QvEJCBQklL6R",
        "colab_type": "text"
      },
      "source": [
        "## 变量（Variable）"
      ]
    },
    {
      "cell_type": "code",
      "metadata": {
        "id": "fwzT0GB-iRxO",
        "colab_type": "code",
        "colab": {}
      },
      "source": [
        "from torch.autograd import Variable"
      ],
      "execution_count": 0,
      "outputs": []
    },
    {
      "cell_type": "code",
      "metadata": {
        "id": "zfA9Yz9YlXc5",
        "colab_type": "code",
        "colab": {}
      },
      "source": [
        "# tensor形式不能反向传播\n",
        "tensor = torch.FloatTensor([[1,2],[3,4]])\n",
        "\n",
        "# 把tensor放入变量中，variable形式可以反向传播\n",
        "# 可以把tensor想像成鸡蛋，variable就是装鸡蛋的篮子\n",
        "# requires_grad=True 即计算该变量的梯度，False不计算\n",
        "variable = Variable(tensor,requires_grad=True)"
      ],
      "execution_count": 0,
      "outputs": []
    },
    {
      "cell_type": "code",
      "metadata": {
        "id": "DJnXdoPrm-l7",
        "colab_type": "code",
        "colab": {
          "base_uri": "https://localhost:8080/",
          "height": 136
        },
        "outputId": "13f4de4c-fa51-4d9f-958c-d06e37d6a24d"
      },
      "source": [
        "print(\n",
        "    '\\ntensor形式:','\\n',tensor,\n",
        "    '\\nVariable形式:','\\n',variable\n",
        ")"
      ],
      "execution_count": 36,
      "outputs": [
        {
          "output_type": "stream",
          "text": [
            "\n",
            "tensor形式: \n",
            " tensor([[1., 2.],\n",
            "        [3., 4.]]) \n",
            "Variable形式: \n",
            " tensor([[1., 2.],\n",
            "        [3., 4.]], requires_grad=True)\n"
          ],
          "name": "stdout"
        }
      ]
    },
    {
      "cell_type": "code",
      "metadata": {
        "id": "k19B8Ee8n2ZT",
        "colab_type": "code",
        "colab": {}
      },
      "source": [
        "# 求均值\n",
        "t_out = torch.mean(tensor*tensor)\n",
        "v_out = torch.mean(variable*variable) # x^2"
      ],
      "execution_count": 0,
      "outputs": []
    },
    {
      "cell_type": "code",
      "metadata": {
        "id": "y79U0_ZCrnra",
        "colab_type": "code",
        "colab": {
          "base_uri": "https://localhost:8080/",
          "height": 51
        },
        "outputId": "fd7f0453-ac89-42f6-ef88-c36d23a060aa"
      },
      "source": [
        "variable*variable"
      ],
      "execution_count": 43,
      "outputs": [
        {
          "output_type": "execute_result",
          "data": {
            "text/plain": [
              "tensor([[ 1.,  4.],\n",
              "        [ 9., 16.]], grad_fn=<MulBackward0>)"
            ]
          },
          "metadata": {
            "tags": []
          },
          "execution_count": 43
        }
      ]
    },
    {
      "cell_type": "code",
      "metadata": {
        "id": "8Mt9vPcYoLAw",
        "colab_type": "code",
        "colab": {
          "base_uri": "https://localhost:8080/",
          "height": 102
        },
        "outputId": "567e5d22-af78-42d8-d5c9-95917606e8b7"
      },
      "source": [
        "print(\n",
        "    '\\ntensor mean:','\\n',t_out,\n",
        "    '\\nVariable mean:','\\n',v_out\n",
        ")"
      ],
      "execution_count": 38,
      "outputs": [
        {
          "output_type": "stream",
          "text": [
            "\n",
            "tensor mean: \n",
            " tensor(7.5000) \n",
            "Variable mean: \n",
            " tensor(7.5000, grad_fn=<MeanBackward0>)\n"
          ],
          "name": "stdout"
        }
      ]
    },
    {
      "cell_type": "code",
      "metadata": {
        "id": "8lUGKEC6o7xf",
        "colab_type": "code",
        "colab": {}
      },
      "source": [
        "# 反向传播\n",
        "# v_out = 1/4*sum(var*var)\n",
        "# d(v_out)/d(var) = 1/4*2*variable = variable/2\n",
        "v_out.backward()"
      ],
      "execution_count": 0,
      "outputs": []
    },
    {
      "cell_type": "code",
      "metadata": {
        "id": "JznQ4AtWqU6X",
        "colab_type": "code",
        "colab": {
          "base_uri": "https://localhost:8080/",
          "height": 51
        },
        "outputId": "64105c0f-437b-46a4-d6c3-3f116f3e4b24"
      },
      "source": [
        "# 打印反向传播的值(梯度)\n",
        "print(variable.grad)"
      ],
      "execution_count": 42,
      "outputs": [
        {
          "output_type": "stream",
          "text": [
            "tensor([[0.5000, 1.0000],\n",
            "        [1.5000, 2.0000]])\n"
          ],
          "name": "stdout"
        }
      ]
    },
    {
      "cell_type": "code",
      "metadata": {
        "id": "wSDDudEkqX85",
        "colab_type": "code",
        "colab": {
          "base_uri": "https://localhost:8080/",
          "height": 51
        },
        "outputId": "fe257edd-c005-4988-fd98-0c757d81173b"
      },
      "source": [
        "# variable的其他属性：data\n",
        "print(variable.data)"
      ],
      "execution_count": 44,
      "outputs": [
        {
          "output_type": "stream",
          "text": [
            "tensor([[1., 2.],\n",
            "        [3., 4.]])\n"
          ],
          "name": "stdout"
        }
      ]
    },
    {
      "cell_type": "code",
      "metadata": {
        "id": "LShZ_wAlsYQb",
        "colab_type": "code",
        "colab": {
          "base_uri": "https://localhost:8080/",
          "height": 51
        },
        "outputId": "64799880-8d3a-4db4-d64c-149eb7b2a23a"
      },
      "source": [
        "# variable.data = tensor形式\n",
        "# variable 不能直接转 numpy，只有tensor可以转\n",
        "print(variable.data.numpy())"
      ],
      "execution_count": 45,
      "outputs": [
        {
          "output_type": "stream",
          "text": [
            "[[1. 2.]\n",
            " [3. 4.]]\n"
          ],
          "name": "stdout"
        }
      ]
    },
    {
      "cell_type": "markdown",
      "metadata": {
        "id": "B10zmktTv10V",
        "colab_type": "text"
      },
      "source": [
        "## 激励函数（activation func）"
      ]
    },
    {
      "cell_type": "code",
      "metadata": {
        "id": "FVI-3cnRsgEa",
        "colab_type": "code",
        "colab": {}
      },
      "source": [
        "import torch\n",
        "import torch.nn.functional as func\n",
        "from torch.autograd import Variable\n",
        "import matplotlib.pyplot as plt"
      ],
      "execution_count": 0,
      "outputs": []
    },
    {
      "cell_type": "code",
      "metadata": {
        "id": "lmmNYr_awkro",
        "colab_type": "code",
        "colab": {}
      },
      "source": [
        "# 生成数据\n",
        "x = torch.linspace(-5,5,200)"
      ],
      "execution_count": 0,
      "outputs": []
    },
    {
      "cell_type": "code",
      "metadata": {
        "id": "U5RMcAeVwyUe",
        "colab_type": "code",
        "colab": {
          "base_uri": "https://localhost:8080/",
          "height": 442
        },
        "outputId": "a4cb062b-8412-4f5c-936a-3348c61b7d1f"
      },
      "source": [
        "x"
      ],
      "execution_count": 50,
      "outputs": [
        {
          "output_type": "execute_result",
          "data": {
            "text/plain": [
              "tensor([-5.0000, -4.9497, -4.8995, -4.8492, -4.7990, -4.7487, -4.6985, -4.6482,\n",
              "        -4.5980, -4.5477, -4.4975, -4.4472, -4.3970, -4.3467, -4.2965, -4.2462,\n",
              "        -4.1960, -4.1457, -4.0955, -4.0452, -3.9950, -3.9447, -3.8945, -3.8442,\n",
              "        -3.7940, -3.7437, -3.6935, -3.6432, -3.5930, -3.5427, -3.4925, -3.4422,\n",
              "        -3.3920, -3.3417, -3.2915, -3.2412, -3.1910, -3.1407, -3.0905, -3.0402,\n",
              "        -2.9899, -2.9397, -2.8894, -2.8392, -2.7889, -2.7387, -2.6884, -2.6382,\n",
              "        -2.5879, -2.5377, -2.4874, -2.4372, -2.3869, -2.3367, -2.2864, -2.2362,\n",
              "        -2.1859, -2.1357, -2.0854, -2.0352, -1.9849, -1.9347, -1.8844, -1.8342,\n",
              "        -1.7839, -1.7337, -1.6834, -1.6332, -1.5829, -1.5327, -1.4824, -1.4322,\n",
              "        -1.3819, -1.3317, -1.2814, -1.2312, -1.1809, -1.1307, -1.0804, -1.0302,\n",
              "        -0.9799, -0.9296, -0.8794, -0.8291, -0.7789, -0.7286, -0.6784, -0.6281,\n",
              "        -0.5779, -0.5276, -0.4774, -0.4271, -0.3769, -0.3266, -0.2764, -0.2261,\n",
              "        -0.1759, -0.1256, -0.0754, -0.0251,  0.0251,  0.0754,  0.1256,  0.1759,\n",
              "         0.2261,  0.2764,  0.3266,  0.3769,  0.4271,  0.4774,  0.5276,  0.5779,\n",
              "         0.6281,  0.6784,  0.7286,  0.7789,  0.8291,  0.8794,  0.9296,  0.9799,\n",
              "         1.0302,  1.0804,  1.1307,  1.1809,  1.2312,  1.2814,  1.3317,  1.3819,\n",
              "         1.4322,  1.4824,  1.5327,  1.5829,  1.6332,  1.6834,  1.7337,  1.7839,\n",
              "         1.8342,  1.8844,  1.9347,  1.9849,  2.0352,  2.0854,  2.1357,  2.1859,\n",
              "         2.2362,  2.2864,  2.3367,  2.3869,  2.4372,  2.4874,  2.5377,  2.5879,\n",
              "         2.6382,  2.6884,  2.7387,  2.7889,  2.8392,  2.8894,  2.9397,  2.9899,\n",
              "         3.0402,  3.0905,  3.1407,  3.1910,  3.2412,  3.2915,  3.3417,  3.3920,\n",
              "         3.4422,  3.4925,  3.5427,  3.5930,  3.6432,  3.6935,  3.7437,  3.7940,\n",
              "         3.8442,  3.8945,  3.9447,  3.9950,  4.0452,  4.0955,  4.1457,  4.1960,\n",
              "         4.2462,  4.2965,  4.3467,  4.3970,  4.4472,  4.4975,  4.5477,  4.5980,\n",
              "         4.6482,  4.6985,  4.7487,  4.7990,  4.8492,  4.8995,  4.9497,  5.0000])"
            ]
          },
          "metadata": {
            "tags": []
          },
          "execution_count": 50
        }
      ]
    },
    {
      "cell_type": "code",
      "metadata": {
        "id": "Qo1Es7dJwy2k",
        "colab_type": "code",
        "colab": {}
      },
      "source": [
        "# 把 torch 数据转换成 Variable\n",
        "x = Variable(x)"
      ],
      "execution_count": 0,
      "outputs": []
    },
    {
      "cell_type": "code",
      "metadata": {
        "id": "RaLbsWKxxC1-",
        "colab_type": "code",
        "colab": {}
      },
      "source": [
        "# matplotlib 无法识别 variable 数据类型，所以要把其转换成 numpy\n",
        "# variable 的 tensor 是存在 data 中的，所以是 x.data\n",
        "x_np = x.data.numpy()"
      ],
      "execution_count": 0,
      "outputs": []
    },
    {
      "cell_type": "code",
      "metadata": {
        "id": "QSkYHM9vxFrZ",
        "colab_type": "code",
        "colab": {}
      },
      "source": [
        "# 激励函数\n",
        "y_relu = torch.relu(x).data.numpy()\n",
        "y_sigmoid = torch.sigmoid(x).data.numpy()\n",
        "y_tanh = torch.tanh(x).data.numpy()"
      ],
      "execution_count": 0,
      "outputs": []
    },
    {
      "cell_type": "code",
      "metadata": {
        "id": "BLwAnzDtx4Gy",
        "colab_type": "code",
        "colab": {
          "base_uri": "https://localhost:8080/",
          "height": 349
        },
        "outputId": "22262a03-5786-4350-dde4-8080f125fbec"
      },
      "source": [
        "%matplotlib inline  \n",
        "plt.figure()\n",
        "\n",
        "plt.subplot(221)\n",
        "plt.plot(x_np,y_relu)\n",
        "plt.title('relu')\n",
        "plt.ylim((-1,5))\n",
        "plt.grid(True)  # 网格\n",
        "\n",
        "plt.subplot(2,2,2)\n",
        "plt.plot(x_np,y_sigmoid)\n",
        "plt.title('sigmoid')\n",
        "plt.ylim((-0.2,1.2))\n",
        "plt.grid(True)\n",
        "\n",
        "plt.subplot(2,2,3)\n",
        "plt.plot(x_np,y_tanh)\n",
        "plt.title('tanh')\n",
        "plt.ylim((-1.2,1.2))\n",
        "plt.grid(True)\n",
        "\n",
        "plt.subplot(2,2,4)\n",
        "plt.plot(x_np,c='red') # 可以更改颜色\n",
        "plt.title('x')\n",
        "plt.ylim((-6,6))\n",
        "plt.grid(True)\n",
        "\n",
        "plt.subplots_adjust(top=1, bottom=0.01, left=0.10, right=0.95, hspace=0.5,\n",
        "                    wspace=0.35)\n",
        "\n"
      ],
      "execution_count": 100,
      "outputs": [
        {
          "output_type": "display_data",
          "data": {
            "image/png": "[encoded data removed]",
            "text/plain": [
              "<Figure size 432x288 with 4 Axes>"
            ]
          },
          "metadata": {
            "tags": []
          }
        }
      ]
    },
    {
      "cell_type": "markdown",
      "metadata": {
        "id": "-O8j_G6k6i98",
        "colab_type": "text"
      },
      "source": [
        "## 回归问题"
      ]
    },
    {
      "cell_type": "code",
      "metadata": {
        "id": "caJmBifO4-Sp",
        "colab_type": "code",
        "colab": {}
      },
      "source": [
        "# 生成数据\n",
        "# unsqueeze是把一维的数据变成2维的数据，只能处理2维\n",
        "x = torch.unsqueeze(torch.linspace(-1,1,100),dim=1)\n",
        "y = x.pow(2) + 0.2*torch.rand(x.size())"
      ],
      "execution_count": 0,
      "outputs": []
    },
    {
      "cell_type": "code",
      "metadata": {
        "id": "ZcN88jWk8NhA",
        "colab_type": "code",
        "colab": {}
      },
      "source": [
        "x,y = Variable(x),Variable(y)"
      ],
      "execution_count": 0,
      "outputs": []
    },
    {
      "cell_type": "code",
      "metadata": {
        "id": "YRlHWFm38ixn",
        "colab_type": "code",
        "colab": {
          "base_uri": "https://localhost:8080/",
          "height": 269
        },
        "outputId": "b19a5a76-7bc0-4443-cf33-95586e73322b"
      },
      "source": [
        "plt.scatter(x.data.numpy(),y.data.numpy())\n",
        "plt.show()"
      ],
      "execution_count": 111,
      "outputs": [
        {
          "output_type": "display_data",
          "data": {
            "image/png": "[encoded data removed]",
            "text/plain": [
              "<Figure size 432x288 with 1 Axes>"
            ]
          },
          "metadata": {
            "tags": []
          }
        }
      ]
    },
    {
      "cell_type": "code",
      "metadata": {
        "id": "49Oi26Fj8rYy",
        "colab_type": "code",
        "colab": {
          "base_uri": "https://localhost:8080/",
          "height": 85
        },
        "outputId": "8265648b-e747-4599-cfbf-89e3e6a746db"
      },
      "source": [
        "# 定义网络\n",
        "# 继承 torch.nn.Module 模块\n",
        "# 最需要用到的两个功能 __init__ , forward\n",
        "\n",
        "class Net(torch.nn.Module):\n",
        "    def __init__(self, n_feature, n_hidden, n_output):\n",
        "        super(Net,self).__init__() #继承\n",
        "        \n",
        "        self.hidden = torch.nn.Linear(n_feature, n_hidden)\n",
        "        self.predict = torch.nn.Linear(n_hidden, n_output)\n",
        "    \n",
        "    def forward(self, x):\n",
        "        x = torch.relu(self.hidden(x))\n",
        "        x = self.predict(x)\n",
        "        return x\n",
        "\n",
        "net = Net(1, 10, 1)  # 输入：1个，神经元：10个，输出：1个\n",
        "print(net)"
      ],
      "execution_count": 112,
      "outputs": [
        {
          "output_type": "stream",
          "text": [
            "Net(\n",
            "  (hidden): Linear(in_features=1, out_features=10, bias=True)\n",
            "  (predict): Linear(in_features=10, out_features=1, bias=True)\n",
            ")\n"
          ],
          "name": "stdout"
        }
      ]
    },
    {
      "cell_type": "code",
      "metadata": {
        "id": "lS8RJ352_OJh",
        "colab_type": "code",
        "colab": {}
      },
      "source": [
        "# 优化神经网络\n",
        "optimizer = torch.optim.SGD(net.parameters(), lr=0.5)\n",
        "# loss_func = func.mse_loss() # 均方差loss"
      ],
      "execution_count": 0,
      "outputs": []
    },
    {
      "cell_type": "code",
      "metadata": {
        "id": "kRwAe4Yc_uFC",
        "colab_type": "code",
        "colab": {
          "base_uri": "https://localhost:8080/",
          "height": 1000
        },
        "outputId": "30739939-c8f8-4bbf-bb57-7a2e913a6db6"
      },
      "source": [
        "# 训练\n",
        "for t in range(100):\n",
        "    prediction = net(x)\n",
        "    \n",
        "    loss = func.mse_loss(prediction,y) # 预测值和真实值的位置不能变\n",
        "    \n",
        "    optimizer.zero_grad()\n",
        "    loss.backward()\n",
        "    optimizer.step()\n",
        "    \n",
        "    # 可视化\n",
        "    if t%20 == 0:\n",
        "        plt.cla()\n",
        "        plt.scatter(x.data.numpy(), y.data.numpy())\n",
        "        plt.plot(x.data.numpy(),prediction.data.numpy(), 'r-', lw=5)\n",
        "        plt.text(0.5,0,'Loss=%.4f'%loss.data.numpy(),fontdict={'size': 20, 'color':  'red'})\n",
        "        plt.pause(0.1)\n",
        "\n",
        "plt.ioff()\n",
        "plt.show()"
      ],
      "execution_count": 140,
      "outputs": [
        {
          "output_type": "display_data",
          "data": {
            "image/png": "[encoded data removed]",
            "text/plain": [
              "<Figure size 432x288 with 1 Axes>"
            ]
          },
          "metadata": {
            "tags": []
          }
        },
        {
          "output_type": "display_data",
          "data": {
            "image/png": "[encoded data removed]",
            "text/plain": [
              "<Figure size 432x288 with 1 Axes>"
            ]
          },
          "metadata": {
            "tags": []
          }
        },
        {
          "output_type": "display_data",
          "data": {
            "image/png": "[encoded data removed]",
            "text/plain": [
              "<Figure size 432x288 with 1 Axes>"
            ]
          },
          "metadata": {
            "tags": []
          }
        },
        {
          "output_type": "display_data",
          "data": {
            "image/png": "[encoded data removed]",
            "text/plain": [
              "<Figure size 432x288 with 1 Axes>"
            ]
          },
          "metadata": {
            "tags": []
          }
        },
        {
          "output_type": "display_data",
          "data": {
            "image/png": "[encoded data removed]",
            "text/plain": [
              "<Figure size 432x288 with 1 Axes>"
            ]
          },
          "metadata": {
            "tags": []
          }
        }
      ]
    },
    {
      "cell_type": "code",
      "metadata": {
        "id": "IGX1nCe7DZoU",
        "colab_type": "code",
        "colab": {}
      },
      "source": [
        ""
      ],
      "execution_count": 0,
      "outputs": []
    }
  ]
}