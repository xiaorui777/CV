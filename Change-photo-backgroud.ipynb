{
 "cells": [
  {
   "cell_type": "markdown",
   "metadata": {},
   "source": [
    "# 证件照换背景"
   ]
  },
  {
   "cell_type": "code",
   "execution_count": 1,
   "metadata": {},
   "outputs": [],
   "source": [
    "import cv2\n",
    "import  numpy as np\n",
    "\n",
    "img=cv2.imread('/Users/ruixiao/jupyter/test1.jpg')\n",
    "cv2.imshow('img',img)\n",
    "key = cv2.waitKey(25)\n",
    "cv2.destroyAllWindows()"
   ]
  },
  {
   "cell_type": "code",
   "execution_count": 2,
   "metadata": {},
   "outputs": [
    {
     "name": "stdout",
     "output_type": "stream",
     "text": [
      "(799, 600, 3)\n"
     ]
    }
   ],
   "source": [
    "print(img.shape)"
   ]
  },
  {
   "cell_type": "code",
   "execution_count": 3,
   "metadata": {},
   "outputs": [
    {
     "name": "stdout",
     "output_type": "stream",
     "text": [
      "[10 10 26]\n"
     ]
    }
   ],
   "source": [
    "print(img[180,180])"
   ]
  },
  {
   "cell_type": "code",
   "execution_count": 4,
   "metadata": {},
   "outputs": [],
   "source": [
    "#将低于lower_blue和高于upper_blue的部分分别变成0，lower_blue～upper_blue之间的值变成255\n",
    "lower_blue=np.array([164,0,0])\n",
    "upper_blue=np.array([255,255,160])\n",
    "mask = cv2.inRange(img, lower_blue, upper_blue)\n",
    "cv2.imshow('Mask', mask)\n",
    "key = cv2.waitKey(25)\n",
    "cv2.destroyAllWindows()"
   ]
  },
  {
   "cell_type": "code",
   "execution_count": 5,
   "metadata": {},
   "outputs": [],
   "source": [
    "#腐蚀膨胀\n",
    "erode=cv2.erode(mask,None,iterations=1)\n",
    "cv2.imshow('erode',erode)\n",
    "key = cv2.waitKey(25)\n",
    "cv2.destroyAllWindows()\n",
    "dilate=cv2.dilate(erode,None,iterations=1)\n",
    "cv2.imshow('dilate',dilate)\n",
    "key = cv2.waitKey(25)\n",
    "cv2.destroyAllWindows()"
   ]
  },
  {
   "cell_type": "code",
   "execution_count": 6,
   "metadata": {},
   "outputs": [],
   "source": [
    "#遍历替换\n",
    "for i in range(img.shape[0]) :\n",
    "    for j in range(img.shape[1]) :\n",
    "        if mask[i,j]==255:\n",
    "            img[i,j]=(255,255,255)#此处替换颜色，为BGR通道\n",
    "cv2.imshow('new',img)\n",
    "cv2.imwrite('new.jpg', img)\n",
    "key = cv2.waitKey(25)\n",
    "cv2.destroyAllWindows()"
   ]
  }
 ],
 "metadata": {
  "kernelspec": {
   "display_name": "Python 3",
   "language": "python",
   "name": "python3"
  },
  "language_info": {
   "codemirror_mode": {
    "name": "ipython",
    "version": 3
   },
   "file_extension": ".py",
   "mimetype": "text/x-python",
   "name": "python",
   "nbconvert_exporter": "python",
   "pygments_lexer": "ipython3",
   "version": "3.5.5"
  }
 },
 "nbformat": 4,
 "nbformat_minor": 2
}
