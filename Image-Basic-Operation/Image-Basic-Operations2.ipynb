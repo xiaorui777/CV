{
 "cells": [
  {
   "cell_type": "markdown",
   "metadata": {},
   "source": [
    "# Image-Basic-Operations2"
   ]
  },
  {
   "cell_type": "markdown",
   "metadata": {},
   "source": [
    "\n",
    "### Similar Transform"
   ]
  },
  {
   "cell_type": "code",
   "execution_count": 1,
   "metadata": {},
   "outputs": [],
   "source": [
    "import cv2\n",
    "import numpy as np"
   ]
  },
  {
   "cell_type": "code",
   "execution_count": 2,
   "metadata": {},
   "outputs": [],
   "source": [
    "img = cv2.imread(\"/Users/ruixiao/Downloads/test.jpg\") #不加参数即读取默认值（忽略透明度的彩色图像）\n",
    "cv2.imshow(\"img\", img)\n",
    "key = cv2.waitKey(25)\n",
    "cv2.destroyAllWindows()"
   ]
  },
  {
   "cell_type": "code",
   "execution_count": 3,
   "metadata": {},
   "outputs": [],
   "source": [
    "# 定义参数（分别为旋转的中心点，旋转的角度，图像缩放因子）\n",
    "center = img.shape[1]/2, img.shape[0]/2\n",
    "degree = 30\n",
    "scale = 0.5"
   ]
  },
  {
   "cell_type": "code",
   "execution_count": 4,
   "metadata": {},
   "outputs": [],
   "source": [
    "# 获取变换矩阵\n",
    "M = cv2.getRotationMatrix2D(center, degree, scale)  \n",
    "img_rotate = cv2.warpAffine(img, M, (img.shape[1],img.shape[0]))  # img.shape[1],img.shape[0]可以理解为与原图画幅大一样\n",
    "cv2.imshow('img_rotate', img_rotate)\n",
    "cv2.imwrite('img_rotate.jpg', img_rotate)\n",
    "key = cv2.waitKey(25)\n",
    "cv2.destroyAllWindows()"
   ]
  },
  {
   "cell_type": "markdown",
   "metadata": {},
   "source": [
    "\n",
    "### Affine Transform"
   ]
  },
  {
   "cell_type": "code",
   "execution_count": 5,
   "metadata": {},
   "outputs": [],
   "source": [
    "cols = img.shape[1]\n",
    "rows = img.shape[0]\n",
    "# 原图中的三个固定顶点\n",
    "pts1 = np.float32([[0,0], [cols - 1, 0], [0, rows - 1]])\n",
    "# 目标图像中对应的三个固定顶点\n",
    "pts2 = np.float32([[cols * 2, rows * 0.1],\n",
    "                          [cols * 0.9, rows *0.2],\n",
    "                          [cols * 0.1, rows * 0.9]])"
   ]
  },
  {
   "cell_type": "code",
   "execution_count": 6,
   "metadata": {},
   "outputs": [],
   "source": [
    "# 获取变换矩阵\n",
    "M = cv2.getAffineTransform(pts1, pts2)\n",
    "# 进行仿射变换\n",
    "dst = cv2.warpAffine(img, M, (cols,rows))\n",
    "cv2.imshow('dst', dst)\n",
    "cv2.imwrite('dst.jpg',dst)\n",
    "key = cv2.waitKey(25)\n",
    "cv2.destroyAllWindows()"
   ]
  },
  {
   "cell_type": "markdown",
   "metadata": {},
   "source": [
    "\n",
    "### Perspective Transform"
   ]
  },
  {
   "cell_type": "code",
   "execution_count": 7,
   "metadata": {},
   "outputs": [],
   "source": [
    "[x1, y1] = [7, 9]\n",
    "[x2, y2] = [1044, 233]\n",
    "[x3, y3] = [70, 63]\n",
    "[x4, y4] = [1, 243]\n",
    "[dx1, dy1] = [10, 199]\n",
    "[dx2, dy2] = [130, 223]\n",
    "[dx3, dy3] = [101, 26]\n",
    "[dx4, dy4] = [30, 78]\n",
    "# 原图中的四个点\n",
    "pts1 = np.float32([[x1, y1], [x2, y2], [x3, y3], [x4, y4]])\n",
    "# 目标图像中对应的四个点\n",
    "pts2 = np.float32([[dx1, dy1], [dx2, dy2], [dx3, dy3], [dx4, dy4]])"
   ]
  },
  {
   "cell_type": "code",
   "execution_count": 8,
   "metadata": {},
   "outputs": [],
   "source": [
    "M_warp = cv2.getPerspectiveTransform(pts1, pts2)"
   ]
  },
  {
   "cell_type": "code",
   "execution_count": 9,
   "metadata": {},
   "outputs": [],
   "source": [
    "width = 600\n",
    "height = 400\n",
    "img_warp = cv2.warpPerspective(img, M_warp, (width, height))\n",
    "cv2.imshow('img_warp', img_warp)\n",
    "cv2.imwrite('img_warp.jpg', img_warp)\n",
    "key = cv2.waitKey(25)\n",
    "cv2.destroyAllWindows()"
   ]
  }
 ],
 "metadata": {
  "kernelspec": {
   "display_name": "Python 3",
   "language": "python",
   "name": "python3"
  },
  "language_info": {
   "codemirror_mode": {
    "name": "ipython",
    "version": 3
   },
   "file_extension": ".py",
   "mimetype": "text/x-python",
   "name": "python",
   "nbconvert_exporter": "python",
   "pygments_lexer": "ipython3",
   "version": "3.5.5"
  }
 },
 "nbformat": 4,
 "nbformat_minor": 2
}
